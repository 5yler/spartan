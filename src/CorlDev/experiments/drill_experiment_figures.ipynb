{
 "cells": [
  {
   "cell_type": "code",
   "execution_count": 7,
   "metadata": {
    "collapsed": false,
    "deletable": true,
    "editable": true
   },
   "outputs": [
    {
     "name": "stdout",
     "output_type": "stream",
     "text": [
      "trial name predlabels_drill_01_train_scenes.png\n",
      "trial name predlabels_drill_02_train_scenes.png\n",
      "trial name predlabels_drill_05_train_scenes.png\n",
      "trial name predlabels_drill_10_train_scenes.png\n",
      "trial name predlabels_drill_25_train_scenes.png\n",
      "trial name predlabels_drill_50_train_scenes.png\n",
      "trial name predlabels_drill_test_11_scenes.png\n"
     ]
    }
   ],
   "source": [
    "import os\n",
    "import sys\n",
    "import matplotlib.pyplot as plt\n",
    "%matplotlib inline\n",
    "\n",
    "\n",
    "# call this script from the directory which has both the *label*.png and *predlabels*.png files\n",
    "\n",
    "dir_full_path = \"/home/peteflo/tensorflow-deeplab-resnet/output_all_drill_networks_10hz/\"\n",
    "\n",
    "with open(os.path.join(dir_full_path,\"summary.txt\")) as f:\n",
    "        content = f.readlines()\n",
    "\n",
    "content = [x.strip() for x in content]\n",
    "\n",
    "# x axis is hz\n",
    "x_axis = [1, 2, 5, 10, 25, 50]\n",
    "\n",
    "ious_by_label = {}\n",
    "std_by_label = {}\n",
    "\n",
    "for i in content:\n",
    "    split = i.split()\n",
    "    if len(split) == 1:\n",
    "        trial_name = i\n",
    "        print \"trial name\", i\n",
    "        continue\n",
    "\n",
    "    label_number = split[0]\n",
    "    iou          = split[1]\n",
    "    std          = split[2]\n",
    "    object_name  = split[3]\n",
    "\n",
    "    if object_name not in ious_by_label.keys():\n",
    "        ious_by_label[object_name] = []\n",
    "        std_by_label[object_name] = []\n",
    "\n",
    "    ious_by_label[object_name].append(float(iou))\n",
    "    std_by_label[object_name].append(float(std))"
   ]
  },
  {
   "cell_type": "code",
   "execution_count": 19,
   "metadata": {
    "collapsed": false,
    "deletable": true,
    "editable": true
   },
   "outputs": [
    {
     "name": "stdout",
     "output_type": "stream",
     "text": [
      "background\n",
      "drill\n"
     ]
    },
    {
     "data": {
      "image/png": "[encoded data removed]",
      "text/plain": [
       "<matplotlib.figure.Figure at 0x7f529b0a7850>"
      ]
     },
     "metadata": {},
     "output_type": "display_data"
    }
   ],
   "source": [
    "for object_name, val in sorted(ious_by_label.iteritems()):\n",
    "    if (object_name != \"drill\") and object_name != \"background\":\n",
    "        continue\n",
    "    print object_name\n",
    "    style = 'o-'\n",
    "    if object_name == \"background\":\n",
    "        style = style + 'k'\n",
    "    plt.semilogx(x_axis, val[:-1], style, label=object_name)\n",
    "    #plt.errorbar(x_axis, val, std_by_label[object_name])\n",
    "\n",
    "plt.xlabel(\"# scenes\")\n",
    "plt.ylabel(\"Mean IoU per object\")\n",
    "plt.legend(bbox_to_anchor=(1.05, 1), loc=2, borderaxespad=0.)\n",
    "plt.show()"
   ]
  },
  {
   "cell_type": "code",
   "execution_count": null,
   "metadata": {
    "collapsed": true,
    "deletable": true,
    "editable": true
   },
   "outputs": [],
   "source": []
  }
 ],
 "metadata": {
  "kernelspec": {
   "display_name": "Python 2",
   "language": "python",
   "name": "python2"
  },
  "language_info": {
   "codemirror_mode": {
    "name": "ipython",
    "version": 2
   },
   "file_extension": ".py",
   "mimetype": "text/x-python",
   "name": "python",
   "nbconvert_exporter": "python",
   "pygments_lexer": "ipython2",
   "version": "2.7.6"
  }
 },
 "nbformat": 4,
 "nbformat_minor": 2
}
